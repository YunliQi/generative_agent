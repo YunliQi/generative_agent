{
 "cells": [
  {
   "cell_type": "code",
   "execution_count": 1,
   "metadata": {},
   "outputs": [
    {
     "name": "stdout",
     "output_type": "stream",
     "text": [
      "Logging to ./log/log-2023-12-12 11:46:26.079084\n",
      "creating data loader...\n"
     ]
    }
   ],
   "source": [
    "import os\n",
    "\n",
    "os.environ[\"CUDA_VISIBLE_DEVICES\"] = \"0\"\n",
    "os.environ['TRANSFORMERS_CACHE'] = '/home/yunli/generative_agent/huggingface'\n",
    "\n",
    "from langchain.llms import HuggingFacePipeline\n",
    "import networkx as nx\n",
    "from transformers import pipeline\n",
    "import re\n",
    "from creat import creat_world\n",
    "from prompt import *\n",
    "from server import logger\n",
    "from datetime import datetime\n",
    "import torch\n",
    "\n",
    "\n",
    "logger.configure(dir = './log/log-' + str(datetime.now()))\n",
    "logger.log(\"creating data loader...\")"
   ]
  },
  {
   "cell_type": "code",
   "execution_count": 2,
   "metadata": {},
   "outputs": [
    {
     "data": {
      "application/vnd.jupyter.widget-view+json": {
       "model_id": "107dc92f24ff40bab2daa7c0b3c1b2cc",
       "version_major": 2,
       "version_minor": 0
      },
      "text/plain": [
       "Loading checkpoint shards:   0%|          | 0/2 [00:00<?, ?it/s]"
      ]
     },
     "metadata": {},
     "output_type": "display_data"
    }
   ],
   "source": [
    "pipeline = pipeline(model=\"meta-llama/Llama-2-7b-chat-hf\", device_map=\"auto\", torch_dtype=torch.float16)\n",
    "model = HuggingFacePipeline(pipeline=pipeline, model_kwargs={'temperature':0.7})"
   ]
  },
  {
   "cell_type": "code",
   "execution_count": 3,
   "metadata": {},
   "outputs": [
    {
     "name": "stderr",
     "output_type": "stream",
     "text": [
      "`embedding_function` is expected to be an Embeddings object, support for passing in a function will soon be removed.\n",
      "`embedding_function` is expected to be an Embeddings object, support for passing in a function will soon be removed.\n",
      "`embedding_function` is expected to be an Embeddings object, support for passing in a function will soon be removed.\n",
      "`embedding_function` is expected to be an Embeddings object, support for passing in a function will soon be removed.\n",
      "`embedding_function` is expected to be an Embeddings object, support for passing in a function will soon be removed.\n",
      "`embedding_function` is expected to be an Embeddings object, support for passing in a function will soon be removed.\n",
      "`embedding_function` is expected to be an Embeddings object, support for passing in a function will soon be removed.\n",
      "`embedding_function` is expected to be an Embeddings object, support for passing in a function will soon be removed.\n",
      "`embedding_function` is expected to be an Embeddings object, support for passing in a function will soon be removed.\n",
      "`embedding_function` is expected to be an Embeddings object, support for passing in a function will soon be removed.\n"
     ]
    }
   ],
   "source": [
    "locations, agents = creat_world(model)"
   ]
  },
  {
   "cell_type": "code",
   "execution_count": 4,
   "metadata": {},
   "outputs": [],
   "source": [
    "action_results = {}\n",
    "back_know = []\n",
    "for i in town_people.keys(): # generate bk knowledge for everyone\n",
    "  back_know.append(i+': '+ agents[i].get_summary(force_refresh=False))\n",
    "# bk = [x for x in back_know]\n",
    "for i in town_people.keys(): # add to people mem\n",
    "  agents[i].memory.add_memory(' You know the following about people: ' + '. '.join(back_know))\n",
    "  action_results[i] = i + 'is' + town_people[i][\"status\"]"
   ]
  },
  {
   "cell_type": "code",
   "execution_count": 5,
   "metadata": {},
   "outputs": [
    {
     "name": "stdout",
     "output_type": "stream",
     "text": [
      "In global time1\n",
      "Mind Tree of people:  Postowner Lius\n",
      "For people Postowner Lius, The observation is: You are Postowner Lius.You are currently in Phandalin Town Square with the following description: Town square of the town of Phandalin..       It is currently 1:00. The following people are in this area: Retireadven Daran, Postmanager Linene, ToweMaster Harbin, Robber Terrill. You can interact with them. You know the following about people: Postowner Liusischatting with Post-Manager. Retireadven Daranisdriking the beer. Postmanager Lineneischatting with Postowner Lius. ToweMaster Harbiniscalculating the tax of the town. Robber Terrillischating with Redbrand ruffians members, secretly planing the robbery \n",
      "\n",
      "the entity i care most is: Postowner Lius \n",
      "\n",
      "the entities' action is: chatting with the Postmanager Linene in the observation. \n",
      "\n",
      "agent_summary_description is: Name: Postowner Lius (age: 69)\n",
      "Innate traits: mean, gossipy, arrogant, selfish\n",
      "Postowner Lius owns a trading post. \n",
      "\n",
      "relevant_mem is: - Postowner Lius is a grumpy old man who doesn't like adventurers.\n",
      "- Postowner Lius is the owner of a trading post in Phandalin.\n",
      "- Postowner Lius is currently chatting with Postmanager Linene.\n",
      "- Postowner Lius has a mean and arrogant personality.\n",
      "- Postowner Lius is selfish and only cares about his own profits.\n",
      "What is the relationship between Postowner Lius and Postmanager Linene?\n",
      "They are currently chatting with each other. \n",
      "\n",
      "most_recent_memories is: You are Postowner Lius.You are currently in Phandalin Town Square with the following description: Town square of the town of Phandalin..       It is currently 1:00. The following people are in this area: Retireadven Daran, Postmanager Linene, ToweMaster Harbin, Robber Terrill. You can interact with them. You know the following about people: Postowner Liusischatting with Post-Manager. Retireadven Daranisdriking the beer. Postmanager Lineneischatting with Postowner Lius. ToweMaster Harbiniscalculating the tax of the town. Robber Terrillischating with Redbrand ruffians members, secretly planing the robbery;  You know the following about people: Postowner Lius: Name: Postowner Lius (age: 69)\n",
      "Innate traits: mean, gossipy, arrogant, selfish\n",
      "Postowner Lius owns a trading post.. Retireadven Daran: Name: Retireadven Daran (age: 55)\n",
      "Innate traits: Stubborn, upright, inarticulate, calm\n",
      "Daran is a retired adventurer who lives in a tidy little cottage beside an apple orchard. A fit, silver-haired half-elf well over a hundred years old, Daran is a fighter who served as a marshal and herald for many years in the lands of the Dragon Coast, far to the southeast. Upon retiring, he returned to the Neverwinter region, his original home.. Postmanager Linene: Name: Postmanager Linene (age: 38)\n",
      "Innate traits: competent, forbearing, self-discipline, impressionable \n",
      "Linene runs a trading post.. ToweMaster Harbin: Name: ToweMaster Harbin (age: 40)\n",
      "Innate traits: pompous\n",
      "Harbin is the townmaster of Phandalin. A pompous, old food. Phandalin has no functioning government, but the townsfolk elect someone to serve as townmaster each year. The townmaster serves as a judge in minor disputes and keeps any records that need to be kept.. Robber Terrill: Name: Robber Terrill (age: 16)\n",
      "Innate traits: ignorant\n",
      "Terrill is a human ruffian. He wears a grimy scarlet cloak. He is a member of the Redbrand ruffians. He doesn't like adventurers, and wants to rob and kill them. \n",
      "\n",
      "full action logic is: SAY: \"What's all the commotion about? Can't an old man enjoy a quiet chat with his customer?\" \n",
      "\n",
      "action result is:  Postowner Lius said \"What's all the commotion about? Can't an old man enjoy a quiet chat with his customer?\" \n",
      "\n",
      "Mind Tree of people:  Retireadven Daran\n",
      "For people Retireadven Daran, The observation is: You are Retireadven Daran.You are currently in Phandalin Town Square with the following description: Town square of the town of Phandalin..       It is currently 1:00. The following people are in this area: Postowner Lius, Postmanager Linene, ToweMaster Harbin, Robber Terrill. You can interact with them. You know the following about people: Postowner Liusischatting with Post-Manager. Retireadven Daranisdriking the beer. Postmanager Lineneischatting with Postowner Lius. ToweMaster Harbiniscalculating the tax of the town. Robber Terrillischating with Redbrand ruffians members, secretly planing the robbery \n",
      "\n"
     ]
    },
    {
     "name": "stderr",
     "output_type": "stream",
     "text": [
      "/home/yunli/anaconda3/envs/env/lib/python3.10/site-packages/transformers/pipelines/base.py:1101: UserWarning: You seem to be using the pipelines sequentially on GPU. In order to maximize efficiency please use a dataset\n",
      "  warnings.warn(\n",
      "/home/yunli/anaconda3/envs/env/lib/python3.10/site-packages/transformers/pipelines/base.py:1101: UserWarning: You seem to be using the pipelines sequentially on GPU. In order to maximize efficiency please use a dataset\n",
      "  warnings.warn(\n",
      "/home/yunli/anaconda3/envs/env/lib/python3.10/site-packages/transformers/pipelines/base.py:1101: UserWarning: You seem to be using the pipelines sequentially on GPU. In order to maximize efficiency please use a dataset\n",
      "  warnings.warn(\n"
     ]
    },
    {
     "name": "stdout",
     "output_type": "stream",
     "text": [
      "the entity i care most is: Retireadven Daran \n",
      "\n"
     ]
    },
    {
     "name": "stderr",
     "output_type": "stream",
     "text": [
      "/home/yunli/anaconda3/envs/env/lib/python3.10/site-packages/transformers/pipelines/base.py:1101: UserWarning: You seem to be using the pipelines sequentially on GPU. In order to maximize efficiency please use a dataset\n",
      "  warnings.warn(\n"
     ]
    },
    {
     "name": "stdout",
     "output_type": "stream",
     "text": [
      "the entities' action is: drinking a beer in the town square. \n",
      "\n"
     ]
    },
    {
     "name": "stderr",
     "output_type": "stream",
     "text": [
      "/home/yunli/anaconda3/envs/env/lib/python3.10/site-packages/transformers/pipelines/base.py:1101: UserWarning: You seem to be using the pipelines sequentially on GPU. In order to maximize efficiency please use a dataset\n",
      "  warnings.warn(\n"
     ]
    },
    {
     "name": "stdout",
     "output_type": "stream",
     "text": [
      "agent_summary_description is: Name: Retireadven Daran (age: 55)\n",
      "Innate traits: Stubborn, upright, inarticulate, calm\n",
      "Daran is a retired adventurer who lives in a tidy little cottage beside an apple orchard. A fit, silver-haired half-elf well over a hundred years old, Daran is a fighter who served as a marshal and herald for many years in the lands of the Dragon Coast, far to the southeast. Upon retiring, he returned to the Neverwinter region, his original home. \n",
      "\n",
      "relevant_mem is: - Retireadven Daran is drinking beer at the tavern.\n",
      "- Postowner Lius and Postmanager Linene are talking to each other.\n",
      "- ToweMaster Harbin is calculating the tax of the town.\n",
      "- Robber Terrill is scheming with the Redbrand ruffians.\n",
      "As Retireadven Daran, you can interact with the following people:\n",
      "- Postowner Lius\n",
      "- Postmanager Linene\n",
      "- ToweMaster Harbin\n",
      "- Robber Terrill\n",
      "What would you like to do? \n",
      "\n",
      "most_recent_memories is: You are Retireadven Daran.You are currently in Phandalin Town Square with the following description: Town square of the town of Phandalin..       It is currently 1:00. The following people are in this area: Postowner Lius, Postmanager Linene, ToweMaster Harbin, Robber Terrill. You can interact with them. You know the following about people: Postowner Liusischatting with Post-Manager. Retireadven Daranisdriking the beer. Postmanager Lineneischatting with Postowner Lius. ToweMaster Harbiniscalculating the tax of the town. Robber Terrillischating with Redbrand ruffians members, secretly planing the robbery;  You know the following about people: Postowner Lius: Name: Postowner Lius (age: 69)\n",
      "Innate traits: mean, gossipy, arrogant, selfish\n",
      "Postowner Lius owns a trading post.. Retireadven Daran: Name: Retireadven Daran (age: 55)\n",
      "Innate traits: Stubborn, upright, inarticulate, calm\n",
      "Daran is a retired adventurer who lives in a tidy little cottage beside an apple orchard. A fit, silver-haired half-elf well over a hundred years old, Daran is a fighter who served as a marshal and herald for many years in the lands of the Dragon Coast, far to the southeast. Upon retiring, he returned to the Neverwinter region, his original home.. Postmanager Linene: Name: Postmanager Linene (age: 38)\n",
      "Innate traits: competent, forbearing, self-discipline, impressionable \n",
      "Linene runs a trading post.. ToweMaster Harbin: Name: ToweMaster Harbin (age: 40)\n",
      "Innate traits: pompous\n",
      "Harbin is the townmaster of Phandalin. A pompous, old food. Phandalin has no functioning government, but the townsfolk elect someone to serve as townmaster each year. The townmaster serves as a judge in minor disputes and keeps any records that need to be kept.. Robber Terrill: Name: Robber Terrill (age: 16)\n",
      "Innate traits: ignorant\n",
      "Terrill is a human ruffian. He wears a grimy scarlet cloak. He is a member of the Redbrand ruffians. He doesn't like adventurers, and wants to rob and kill them. \n",
      "\n"
     ]
    },
    {
     "name": "stderr",
     "output_type": "stream",
     "text": [
      "/home/yunli/anaconda3/envs/env/lib/python3.10/site-packages/transformers/pipelines/base.py:1101: UserWarning: You seem to be using the pipelines sequentially on GPU. In order to maximize efficiency please use a dataset\n",
      "  warnings.warn(\n"
     ]
    },
    {
     "name": "stdout",
     "output_type": "stream",
     "text": [
      "full action logic is: Retireadven Daran REACTS: \"What's all the commotion about?\" \n",
      "\n",
      "action result is:  Retireadven Daran REACTS: \"What's all the commotion about?\" \n",
      "\n",
      "Mind Tree of people:  Postmanager Linene\n",
      "For people Postmanager Linene, The observation is: You are Postmanager Linene.You are currently in Phandalin Town Square with the following description: Town square of the town of Phandalin..       It is currently 1:00. The following people are in this area: Postowner Lius, Retireadven Daran, ToweMaster Harbin, Robber Terrill. You can interact with them. You know the following about people: Postowner Liusischatting with Post-Manager. Retireadven Daranisdriking the beer. Postmanager Lineneischatting with Postowner Lius. ToweMaster Harbiniscalculating the tax of the town. Robber Terrillischating with Redbrand ruffians members, secretly planing the robbery \n",
      "\n"
     ]
    },
    {
     "name": "stderr",
     "output_type": "stream",
     "text": [
      "/home/yunli/anaconda3/envs/env/lib/python3.10/site-packages/transformers/pipelines/base.py:1101: UserWarning: You seem to be using the pipelines sequentially on GPU. In order to maximize efficiency please use a dataset\n",
      "  warnings.warn(\n",
      "/home/yunli/anaconda3/envs/env/lib/python3.10/site-packages/transformers/pipelines/base.py:1101: UserWarning: You seem to be using the pipelines sequentially on GPU. In order to maximize efficiency please use a dataset\n",
      "  warnings.warn(\n"
     ]
    },
    {
     "name": "stdout",
     "output_type": "stream",
     "text": [
      "the entity i care most is: Postowner Lius \n",
      "\n"
     ]
    },
    {
     "name": "stderr",
     "output_type": "stream",
     "text": [
      "/home/yunli/anaconda3/envs/env/lib/python3.10/site-packages/transformers/pipelines/base.py:1101: UserWarning: You seem to be using the pipelines sequentially on GPU. In order to maximize efficiency please use a dataset\n",
      "  warnings.warn(\n",
      "/home/yunli/anaconda3/envs/env/lib/python3.10/site-packages/transformers/pipelines/base.py:1101: UserWarning: You seem to be using the pipelines sequentially on GPU. In order to maximize efficiency please use a dataset\n",
      "  warnings.warn(\n"
     ]
    },
    {
     "name": "stdout",
     "output_type": "stream",
     "text": [
      "the entities' action is: chatting with the Postmanager Linene. \n",
      "\n"
     ]
    },
    {
     "name": "stderr",
     "output_type": "stream",
     "text": [
      "/home/yunli/anaconda3/envs/env/lib/python3.10/site-packages/transformers/pipelines/base.py:1101: UserWarning: You seem to be using the pipelines sequentially on GPU. In order to maximize efficiency please use a dataset\n",
      "  warnings.warn(\n"
     ]
    },
    {
     "name": "stdout",
     "output_type": "stream",
     "text": [
      "agent_summary_description is: Name: Postmanager Linene (age: 38)\n",
      "Innate traits: competent, forbearing, self-discipline, impressionable \n",
      "Linene runs a trading post. \n",
      "\n",
      "relevant_mem is: - Postowner Lius and Postmanager Linene are having a conversation.\n",
      "- Retireadven Daran is drinking beer.\n",
      "- ToweMaster Harbin is calculating the tax of the town.\n",
      "- Robber Terrill is scheming with the Redbrand ruffians.\n",
      "What is the relationship between Postmanager Linene and Postowner Lius?\n",
      "Postmanager Linene and Postowner Lius have a working relationship. Postowner Lius is the owner of a trading post in Phandalin, and Postmanager Linene is the person in charge of managing the post on his behalf. They are currently having a conversation about the daily operations of the post. \n",
      "\n",
      "most_recent_memories is: You are Postmanager Linene.You are currently in Phandalin Town Square with the following description: Town square of the town of Phandalin..       It is currently 1:00. The following people are in this area: Postowner Lius, Retireadven Daran, ToweMaster Harbin, Robber Terrill. You can interact with them. You know the following about people: Postowner Liusischatting with Post-Manager. Retireadven Daranisdriking the beer. Postmanager Lineneischatting with Postowner Lius. ToweMaster Harbiniscalculating the tax of the town. Robber Terrillischating with Redbrand ruffians members, secretly planing the robbery;  You know the following about people: Postowner Lius: Name: Postowner Lius (age: 69)\n",
      "Innate traits: mean, gossipy, arrogant, selfish\n",
      "Postowner Lius owns a trading post.. Retireadven Daran: Name: Retireadven Daran (age: 55)\n",
      "Innate traits: Stubborn, upright, inarticulate, calm\n",
      "Daran is a retired adventurer who lives in a tidy little cottage beside an apple orchard. A fit, silver-haired half-elf well over a hundred years old, Daran is a fighter who served as a marshal and herald for many years in the lands of the Dragon Coast, far to the southeast. Upon retiring, he returned to the Neverwinter region, his original home.. Postmanager Linene: Name: Postmanager Linene (age: 38)\n",
      "Innate traits: competent, forbearing, self-discipline, impressionable \n",
      "Linene runs a trading post.. ToweMaster Harbin: Name: ToweMaster Harbin (age: 40)\n",
      "Innate traits: pompous\n",
      "Harbin is the townmaster of Phandalin. A pompous, old food. Phandalin has no functioning government, but the townsfolk elect someone to serve as townmaster each year. The townmaster serves as a judge in minor disputes and keeps any records that need to be kept.. Robber Terrill: Name: Robber Terrill (age: 16)\n",
      "Innate traits: ignorant\n",
      "Terrill is a human ruffian. He wears a grimy scarlet cloak. He is a member of the Redbrand ruffians. He doesn't like adventurers, and wants to rob and kill them. \n",
      "\n"
     ]
    },
    {
     "name": "stderr",
     "output_type": "stream",
     "text": [
      "/home/yunli/anaconda3/envs/env/lib/python3.10/site-packages/transformers/pipelines/base.py:1101: UserWarning: You seem to be using the pipelines sequentially on GPU. In order to maximize efficiency please use a dataset\n",
      "  warnings.warn(\n"
     ]
    },
    {
     "name": "stdout",
     "output_type": "stream",
     "text": [
      "full action logic is: SAY: \"I see, have you noticed anything unusual lately?\" \n",
      "\n"
     ]
    },
    {
     "name": "stderr",
     "output_type": "stream",
     "text": [
      "/home/yunli/anaconda3/envs/env/lib/python3.10/site-packages/transformers/pipelines/base.py:1101: UserWarning: You seem to be using the pipelines sequentially on GPU. In order to maximize efficiency please use a dataset\n",
      "  warnings.warn(\n"
     ]
    },
    {
     "name": "stdout",
     "output_type": "stream",
     "text": [
      "action result is:  Postmanager Linene said \"I see, have you noticed anything unusual lately?\" \n",
      "\n",
      "Mind Tree of people:  ToweMaster Harbin\n",
      "For people ToweMaster Harbin, The observation is: You are ToweMaster Harbin.You are currently in Phandalin Town Square with the following description: Town square of the town of Phandalin..       It is currently 1:00. The following people are in this area: Postowner Lius, Retireadven Daran, Postmanager Linene, Robber Terrill. You can interact with them. You know the following about people: Postowner Liusischatting with Post-Manager. Retireadven Daranisdriking the beer. Postmanager Lineneischatting with Postowner Lius. ToweMaster Harbiniscalculating the tax of the town. Robber Terrillischating with Redbrand ruffians members, secretly planing the robbery \n",
      "\n",
      "the entity i care most is: ToweMaster Harbin \n",
      "\n"
     ]
    },
    {
     "name": "stderr",
     "output_type": "stream",
     "text": [
      "/home/yunli/anaconda3/envs/env/lib/python3.10/site-packages/transformers/pipelines/base.py:1101: UserWarning: You seem to be using the pipelines sequentially on GPU. In order to maximize efficiency please use a dataset\n",
      "  warnings.warn(\n",
      "/home/yunli/anaconda3/envs/env/lib/python3.10/site-packages/transformers/pipelines/base.py:1101: UserWarning: You seem to be using the pipelines sequentially on GPU. In order to maximize efficiency please use a dataset\n",
      "  warnings.warn(\n",
      "/home/yunli/anaconda3/envs/env/lib/python3.10/site-packages/transformers/pipelines/base.py:1101: UserWarning: You seem to be using the pipelines sequentially on GPU. In order to maximize efficiency please use a dataset\n",
      "  warnings.warn(\n"
     ]
    },
    {
     "name": "stdout",
     "output_type": "stream",
     "text": [
      "the entities' action is: calculating the tax of the town. \n",
      "\n"
     ]
    },
    {
     "name": "stderr",
     "output_type": "stream",
     "text": [
      "/home/yunli/anaconda3/envs/env/lib/python3.10/site-packages/transformers/pipelines/base.py:1101: UserWarning: You seem to be using the pipelines sequentially on GPU. In order to maximize efficiency please use a dataset\n",
      "  warnings.warn(\n"
     ]
    },
    {
     "name": "stdout",
     "output_type": "stream",
     "text": [
      "agent_summary_description is: Name: ToweMaster Harbin (age: 40)\n",
      "Innate traits: pompous\n",
      "Harbin is the townmaster of Phandalin. A pompous, old food. Phandalin has no functioning government, but the townsfolk elect someone to serve as townmaster each year. The townmaster serves as a judge in minor disputes and keeps any records that need to be kept. \n",
      "\n",
      "relevant_mem is: ToweMaster Harbin is the townmaster of Phandalin. He is calculating the tax of the town.\n",
      "Postowner Lius is a grumpy old man who owns a trading post. He is chatting with Postmanager Linene.\n",
      "Retireadven Daran is a retired adventurer who lives in a tidy little cottage beside an apple orchard. He is drinking beer.\n",
      "Postmanager Linene is a competent and forbearing man who runs a trading post. He is chatting with Postowner Lius.\n",
      "Robber Terrill is a 16-year-old human ruffian who wears a grimy scarlet cloak. He is a member of the Redbrand ruffians and wants to rob and kill adventurers.\n",
      "What is the relationship between ToweMaster Harbin and Postowner Lius?\n",
      "What is the relationship between ToweMaster Harbin and Postmanager Linene?\n",
      "What is the relationship between ToweMaster Harbin and Robber Terrill? \n",
      "\n",
      "most_recent_memories is: You are ToweMaster Harbin.You are currently in Phandalin Town Square with the following description: Town square of the town of Phandalin..       It is currently 1:00. The following people are in this area: Postowner Lius, Retireadven Daran, Postmanager Linene, Robber Terrill. You can interact with them. You know the following about people: Postowner Liusischatting with Post-Manager. Retireadven Daranisdriking the beer. Postmanager Lineneischatting with Postowner Lius. ToweMaster Harbiniscalculating the tax of the town. Robber Terrillischating with Redbrand ruffians members, secretly planing the robbery;  You know the following about people: Postowner Lius: Name: Postowner Lius (age: 69)\n",
      "Innate traits: mean, gossipy, arrogant, selfish\n",
      "Postowner Lius owns a trading post.. Retireadven Daran: Name: Retireadven Daran (age: 55)\n",
      "Innate traits: Stubborn, upright, inarticulate, calm\n",
      "Daran is a retired adventurer who lives in a tidy little cottage beside an apple orchard. A fit, silver-haired half-elf well over a hundred years old, Daran is a fighter who served as a marshal and herald for many years in the lands of the Dragon Coast, far to the southeast. Upon retiring, he returned to the Neverwinter region, his original home.. Postmanager Linene: Name: Postmanager Linene (age: 38)\n",
      "Innate traits: competent, forbearing, self-discipline, impressionable \n",
      "Linene runs a trading post.. ToweMaster Harbin: Name: ToweMaster Harbin (age: 40)\n",
      "Innate traits: pompous\n",
      "Harbin is the townmaster of Phandalin. A pompous, old food. Phandalin has no functioning government, but the townsfolk elect someone to serve as townmaster each year. The townmaster serves as a judge in minor disputes and keeps any records that need to be kept.. Robber Terrill: Name: Robber Terrill (age: 16)\n",
      "Innate traits: ignorant\n",
      "Terrill is a human ruffian. He wears a grimy scarlet cloak. He is a member of the Redbrand ruffians. He doesn't like adventurers, and wants to rob and kill them. \n",
      "\n"
     ]
    },
    {
     "name": "stderr",
     "output_type": "stream",
     "text": [
      "/home/yunli/anaconda3/envs/env/lib/python3.10/site-packages/transformers/pipelines/base.py:1101: UserWarning: You seem to be using the pipelines sequentially on GPU. In order to maximize efficiency please use a dataset\n",
      "  warnings.warn(\n"
     ]
    },
    {
     "name": "stdout",
     "output_type": "stream",
     "text": [
      "full action logic is: SAY: \"I suppose you are here to ask me about the taxes again. Well, I'm afraid I can't be bothered with such trivial matters right now. I have more important things to attend to.\" \n",
      "\n",
      "action result is:  ToweMaster Harbin said \"I suppose you are here to ask me about the taxes again. Well, I'm afraid I can't be bothered with such trivial matters right now. I have more important things to attend to.\" \n",
      "\n",
      "Mind Tree of people:  Robber Terrill\n",
      "For people Robber Terrill, The observation is: You are Robber Terrill.You are currently in Phandalin Town Square with the following description: Town square of the town of Phandalin..       It is currently 1:00. The following people are in this area: Postowner Lius, Retireadven Daran, Postmanager Linene, ToweMaster Harbin. You can interact with them. You know the following about people: Postowner Liusischatting with Post-Manager. Retireadven Daranisdriking the beer. Postmanager Lineneischatting with Postowner Lius. ToweMaster Harbiniscalculating the tax of the town. Robber Terrillischating with Redbrand ruffians members, secretly planing the robbery \n",
      "\n"
     ]
    },
    {
     "name": "stderr",
     "output_type": "stream",
     "text": [
      "/home/yunli/anaconda3/envs/env/lib/python3.10/site-packages/transformers/pipelines/base.py:1101: UserWarning: You seem to be using the pipelines sequentially on GPU. In order to maximize efficiency please use a dataset\n",
      "  warnings.warn(\n",
      "/home/yunli/anaconda3/envs/env/lib/python3.10/site-packages/transformers/pipelines/base.py:1101: UserWarning: You seem to be using the pipelines sequentially on GPU. In order to maximize efficiency please use a dataset\n",
      "  warnings.warn(\n",
      "/home/yunli/anaconda3/envs/env/lib/python3.10/site-packages/transformers/pipelines/base.py:1101: UserWarning: You seem to be using the pipelines sequentially on GPU. In order to maximize efficiency please use a dataset\n",
      "  warnings.warn(\n"
     ]
    },
    {
     "name": "stdout",
     "output_type": "stream",
     "text": [
      "the entity i care most is: Robber Terrill \n",
      "\n"
     ]
    },
    {
     "name": "stderr",
     "output_type": "stream",
     "text": [
      "/home/yunli/anaconda3/envs/env/lib/python3.10/site-packages/transformers/pipelines/base.py:1101: UserWarning: You seem to be using the pipelines sequentially on GPU. In order to maximize efficiency please use a dataset\n",
      "  warnings.warn(\n"
     ]
    },
    {
     "name": "stdout",
     "output_type": "stream",
     "text": [
      "the entities' action is: planning a robbery with Redbrand ruffians members in the town square of Phandalin. \n",
      "\n"
     ]
    },
    {
     "name": "stderr",
     "output_type": "stream",
     "text": [
      "/home/yunli/anaconda3/envs/env/lib/python3.10/site-packages/transformers/pipelines/base.py:1101: UserWarning: You seem to be using the pipelines sequentially on GPU. In order to maximize efficiency please use a dataset\n",
      "  warnings.warn(\n"
     ]
    }
   ],
   "source": [
    "global_time = 0\n",
    "for repeats in range(4):\n",
    "  global_time += 1\n",
    "  logger.log(\"In global time \" + str(global_time))\n",
    "  action_prompts = {}\n",
    "  people_description = []\n",
    "  for location in town_areas.keys():\n",
    "    people = []\n",
    "    for i in town_people.keys():\n",
    "      if locations[i] == location:\n",
    "        people.append(i)\n",
    "        people_description.append(action_results[i])\n",
    "\n",
    "    # for name in people:\n",
    "      # prompt = \"You are {}. Your plans are: {}. You are currently in {} with the following description: {}. Your memories are: {}. It is currently {}:00. The following people are in this area: {}. You can interact with them.\".format(name, plans[name], location, town_areas[location], '\\n'.join(compressed_memories_all[name][-5:]), str(global_time), ', '.join(people))\n",
    "    # for i in people: \n",
    "    #   if i not in action_results: # initialize action results as the status, and add agent mem with description\n",
    "    #     action_results[i] = agents[i].get_summary(force_refresh=False)\n",
    "    for i in people: # add observation to memory and react\n",
    "      logger.log(\"Mind Tree of people: \", i)\n",
    "\n",
    "      others = [x for x in people if x != i]\n",
    "      observation = \"You are {}.You are currently in {} with the following description: {}. \\\n",
    "      It is currently {}:00. The following people are in this area: {}. You can interact with them.\". \\\n",
    "      format(i, location, town_areas[location], str(global_time), ', '.join(others))\n",
    "\n",
    "      others_des = [x for x in people_description if i+': ' not in x]\n",
    "      observation += ' You know the following about people: ' + '. '.join(others_des)\n",
    "\n",
    "      logger.log(\"For people %s, The observation is: %s \\n\" % (i, observation))\n",
    "\n",
    "      agents[i].memory.add_memory(observation)\n",
    "      _, reaction = agents[i].generate_reaction(observation)\n",
    "      action_results[i] = reaction\n",
    "\n",
    "      logger.log(\"action result is:  %s \\n\" %(reaction))"
   ]
  }
 ],
 "metadata": {
  "kernelspec": {
   "display_name": "base",
   "language": "python",
   "name": "python3"
  },
  "language_info": {
   "codemirror_mode": {
    "name": "ipython",
    "version": 3
   },
   "file_extension": ".py",
   "mimetype": "text/x-python",
   "name": "python",
   "nbconvert_exporter": "python",
   "pygments_lexer": "ipython3",
   "version": "3.10.13"
  },
  "orig_nbformat": 4
 },
 "nbformat": 4,
 "nbformat_minor": 2
}
